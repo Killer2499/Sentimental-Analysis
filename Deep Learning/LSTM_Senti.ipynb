{
  "nbformat": 4,
  "nbformat_minor": 0,
  "metadata": {
    "colab": {
      "name": "LSTM_Senti.ipynb",
      "version": "0.3.2",
      "provenance": []
    },
    "kernelspec": {
      "name": "python3",
      "display_name": "Python 3"
    }
  },
  "cells": [
    {
      "cell_type": "code",
      "metadata": {
        "id": "eUsTdgo5Xs18",
        "colab_type": "code",
        "outputId": "5a4f4848-8da2-45dd-a5fd-4cba1cd23391",
        "colab": {
          "base_uri": "https://localhost:8080/",
          "height": 51
        }
      },
      "source": [
        "#Upload Your DataSet and Preprocessing According to the File in Machine Learning Folder\n",
        "\n",
        "!pip install numpy==1.16.1\n",
        "import numpy as np\n",
        "from keras.datasets import imdb\n",
        "from matplotlib import pyplot as plt\n",
        "import pandas as pd"
      ],
      "execution_count": 0,
      "outputs": [
        {
          "output_type": "stream",
          "text": [
            "Requirement already satisfied: numpy==1.16.1 in /usr/local/lib/python3.6/dist-packages (1.16.1)\n"
          ],
          "name": "stdout"
        },
        {
          "output_type": "stream",
          "text": [
            "Using TensorFlow backend.\n"
          ],
          "name": "stderr"
        }
      ]
    },
    {
      "cell_type": "code",
      "metadata": {
        "id": "J5Sr2N3sYT13",
        "colab_type": "code",
        "colab": {}
      },
      "source": [
        "(X_train,y_train),(X_test,y_test)=imdb.load_data()"
      ],
      "execution_count": 0,
      "outputs": []
    },
    {
      "cell_type": "code",
      "metadata": {
        "id": "H3jMeLkyZEkj",
        "colab_type": "code",
        "outputId": "6f9f3a8b-f318-4aa7-805c-8163609c6420",
        "colab": {
          "base_uri": "https://localhost:8080/",
          "height": 34
        }
      },
      "source": [
        "print(X_train.shape)"
      ],
      "execution_count": 0,
      "outputs": [
        {
          "output_type": "stream",
          "text": [
            "(25000,)\n"
          ],
          "name": "stdout"
        }
      ]
    },
    {
      "cell_type": "code",
      "metadata": {
        "id": "eouGuuHKZUnE",
        "colab_type": "code",
        "colab": {}
      },
      "source": [
        "(X_train,y_train),(X_test,y_test)=imdb.load_data(num_words=5000)"
      ],
      "execution_count": 0,
      "outputs": []
    },
    {
      "cell_type": "code",
      "metadata": {
        "id": "YCV2iwa6ZaRT",
        "colab_type": "code",
        "colab": {}
      },
      "source": [
        "from keras.preprocessing import sequence\n",
        "X_train=sequence.pad_sequences(X_train,maxlen=500)\n",
        "X_test=sequence.pad_sequences(X_test,maxlen=500)"
      ],
      "execution_count": 0,
      "outputs": []
    },
    {
      "cell_type": "code",
      "metadata": {
        "id": "1OQ9a0l8Zccz",
        "colab_type": "code",
        "outputId": "2b985746-7b1d-404e-ae87-ea3b77c1ddca",
        "colab": {
          "base_uri": "https://localhost:8080/",
          "height": 34
        }
      },
      "source": [
        "from keras.layers import Embedding\n",
        "\n",
        "Embedding(5000,32,input_length=500)"
      ],
      "execution_count": 0,
      "outputs": [
        {
          "output_type": "execute_result",
          "data": {
            "text/plain": [
              "<keras.layers.embeddings.Embedding at 0x7f1e5f2630f0>"
            ]
          },
          "metadata": {
            "tags": []
          },
          "execution_count": 7
        }
      ]
    },
    {
      "cell_type": "code",
      "metadata": {
        "id": "y0rs4jEZZeNT",
        "colab_type": "code",
        "outputId": "6a1cd368-7226-44dc-abaa-fcaeeab05126",
        "colab": {
          "base_uri": "https://localhost:8080/",
          "height": 88
        }
      },
      "source": [
        "from keras.models import Sequential\n",
        "from keras.layers import Flatten,Dense,LSTM,Dropout\n",
        "\n",
        "model = Sequential()\n",
        "model.add(Embedding(5000, 32, input_length=500))\n",
        "model.add(LSTM(200))\n",
        "model.add(Dense(1, activation='sigmoid'))\n",
        "model.compile(loss='binary_crossentropy', optimizer='adam', metrics=['accuracy'])"
      ],
      "execution_count": 0,
      "outputs": [
        {
          "output_type": "stream",
          "text": [
            "WARNING:tensorflow:From /usr/local/lib/python3.6/dist-packages/tensorflow/python/framework/op_def_library.py:263: colocate_with (from tensorflow.python.framework.ops) is deprecated and will be removed in a future version.\n",
            "Instructions for updating:\n",
            "Colocations handled automatically by placer.\n"
          ],
          "name": "stdout"
        }
      ]
    },
    {
      "cell_type": "code",
      "metadata": {
        "id": "ouT-pRKLZ8Kj",
        "colab_type": "code",
        "outputId": "d17a39f4-67d1-4ee7-cf07-89b4a0507b3f",
        "colab": {
          "base_uri": "https://localhost:8080/",
          "height": 190
        }
      },
      "source": [
        "model.fit(X_train,y_train,validation_data=(X_test,y_test),epochs=2,batch_size=32,verbose=1)"
      ],
      "execution_count": 0,
      "outputs": [
        {
          "output_type": "stream",
          "text": [
            "WARNING:tensorflow:From /usr/local/lib/python3.6/dist-packages/tensorflow/python/ops/math_ops.py:3066: to_int32 (from tensorflow.python.ops.math_ops) is deprecated and will be removed in a future version.\n",
            "Instructions for updating:\n",
            "Use tf.cast instead.\n",
            "Train on 25000 samples, validate on 25000 samples\n",
            "Epoch 1/2\n",
            "25000/25000 [==============================] - 1270s 51ms/step - loss: 0.4824 - acc: 0.7607 - val_loss: 0.4545 - val_acc: 0.8367\n",
            "Epoch 2/2\n",
            "25000/25000 [==============================] - 1272s 51ms/step - loss: 0.3240 - acc: 0.8668 - val_loss: 0.4524 - val_acc: 0.7952\n"
          ],
          "name": "stdout"
        },
        {
          "output_type": "execute_result",
          "data": {
            "text/plain": [
              "<keras.callbacks.History at 0x7f1e5424ba90>"
            ]
          },
          "metadata": {
            "tags": []
          },
          "execution_count": 9
        }
      ]
    },
    {
      "cell_type": "code",
      "metadata": {
        "id": "qIdQ6TXbZ_2j",
        "colab_type": "code",
        "outputId": "cbdf7459-61ca-40b9-9cce-880dc71ec742",
        "colab": {
          "base_uri": "https://localhost:8080/",
          "height": 34
        }
      },
      "source": [
        "scores=model.evaluate(X_test,y_test,verbose=0)\n",
        "print(\"Accuracy: %.2f%%\"%(scores[1]*100))"
      ],
      "execution_count": 0,
      "outputs": [
        {
          "output_type": "stream",
          "text": [
            "Accuracy: 79.52%\n"
          ],
          "name": "stdout"
        }
      ]
    },
    {
      "cell_type": "code",
      "metadata": {
        "id": "WNES9Iumjz7n",
        "colab_type": "code",
        "outputId": "75d9b2e1-cc84-414a-c814-8559d5d26e8a",
        "colab": {
          "base_uri": "https://localhost:8080/",
          "height": 187
        }
      },
      "source": [
        "#print(X_train[0])\n",
        "X_train=sequence.pad_sequences(X_test[:10],maxlen=500)\n",
        "\n",
        "#encode_text_pad=sequence.pad_sequences(input_sentence,maxlen=500)\n",
        "pred=model.predict(x=X_train)\n",
        "print(pred)"
      ],
      "execution_count": 0,
      "outputs": [
        {
          "output_type": "stream",
          "text": [
            "[[0.5161548 ]\n",
            " [0.9633442 ]\n",
            " [0.66425526]\n",
            " [0.48712108]\n",
            " [0.9729593 ]\n",
            " [0.7530728 ]\n",
            " [0.92321676]\n",
            " [0.27345735]\n",
            " [0.7538167 ]\n",
            " [0.6439839 ]]\n"
          ],
          "name": "stdout"
        }
      ]
    },
    {
      "cell_type": "code",
      "metadata": {
        "id": "SCJVaSs2lLTB",
        "colab_type": "code",
        "outputId": "46501f9b-721b-46d5-a32a-f4296cbeadf2",
        "colab": {
          "base_uri": "https://localhost:8080/",
          "height": 34
        }
      },
      "source": [
        ""
      ],
      "execution_count": 0,
      "outputs": [
        {
          "output_type": "stream",
          "text": [
            "[[0.28002602]]\n"
          ],
          "name": "stdout"
        }
      ]
    },
    {
      "cell_type": "code",
      "metadata": {
        "id": "GABzqLPFlP7x",
        "colab_type": "code",
        "colab": {}
      },
      "source": [
        ""
      ],
      "execution_count": 0,
      "outputs": []
    }
  ]
}